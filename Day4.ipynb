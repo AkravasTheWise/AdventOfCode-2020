{
 "cells": [
  {
   "cell_type": "code",
   "execution_count": 39,
   "metadata": {},
   "outputs": [],
   "source": [
    "import numpy as np\n",
    "import re"
   ]
  },
  {
   "cell_type": "code",
   "execution_count": 2,
   "metadata": {},
   "outputs": [],
   "source": [
    "with open('input_day4.txt', 'r') as file:\n",
    "    passports = file.read().replace('\\n\\n', '%')\n",
    "    passports = passports.replace('\\n', ' ')    \n",
    "passports=passports.split('%')"
   ]
  },
  {
   "cell_type": "markdown",
   "metadata": {},
   "source": [
    "# Part 1"
   ]
  },
  {
   "cell_type": "code",
   "execution_count": 16,
   "metadata": {},
   "outputs": [],
   "source": [
    "passports=[k for k in passports if ('byr' in k) and ('iyr' in k) and ('eyr' in k) and ('hgt' in k) and ('hcl' in k) and ('ecl' in k) and ('pid' in k)]"
   ]
  },
  {
   "cell_type": "code",
   "execution_count": 17,
   "metadata": {},
   "outputs": [
    {
     "data": {
      "text/plain": [
       "226"
      ]
     },
     "execution_count": 17,
     "metadata": {},
     "output_type": "execute_result"
    }
   ],
   "source": [
    "len(passports)"
   ]
  },
  {
   "cell_type": "code",
   "execution_count": 23,
   "metadata": {
    "scrolled": true
   },
   "outputs": [
    {
     "data": {
      "text/plain": [
       "['ecl:grn',\n",
       " 'cid:315',\n",
       " 'iyr:2012',\n",
       " 'hgt:192cm',\n",
       " 'eyr:2023',\n",
       " 'pid:873355140',\n",
       " 'byr:1925',\n",
       " 'hcl:#cb2c03']"
      ]
     },
     "execution_count": 23,
     "metadata": {},
     "output_type": "execute_result"
    }
   ],
   "source": [
    "passports[0].split(' ')"
   ]
  },
  {
   "cell_type": "markdown",
   "metadata": {},
   "source": [
    "# Part 2"
   ]
  },
  {
   "cell_type": "code",
   "execution_count": 77,
   "metadata": {
    "scrolled": false
   },
   "outputs": [
    {
     "name": "stdout",
     "output_type": "stream",
     "text": [
      "160\n"
     ]
    }
   ],
   "source": [
    "count=0\n",
    "for passport in passports:\n",
    "    byr=1920 <= np.float([k for k in passport.split(' ') if ('byr' in k)][0][4:]) <=2002\n",
    "    iyr=2010 <= np.float([k for k in passport.split(' ') if ('iyr' in k)][0][4:]) <=2020\n",
    "    eyr=2020 <= np.float([k for k in passport.split(' ') if ('eyr' in k)][0][4:]) <=2030\n",
    "\n",
    "    if ([k for k in passport.split(' ') if ('hgt' in k)][0][-2:] == 'cm'):\n",
    "        hgt = 150 <= np.float([k for k in passport.split(' ') if ('hgt' in k)][0][4:-2]) <= 193\n",
    "    elif ([k for k in passport.split(' ') if ('hgt' in k)][0][-2:] == 'in'):\n",
    "        hgt = 59 <= np.float([k for k in passport.split(' ') if ('hgt' in k)][0][4:-2]) <= 76\n",
    "    else: hgt = False\n",
    "        \n",
    "    hcl = re.search(r'^#(?:[0-9a-fA-F]{3}){1,2}$', [k for k in passport.split(' ') if ('hcl' in k)][0][4:]) != None\n",
    "    \n",
    "    ecl = ([k for k in passport.split(' ') if ('ecl' in k)][0][4:] == 'amb' or\n",
    "           [k for k in passport.split(' ') if ('ecl' in k)][0][4:] == 'blu' or\n",
    "           [k for k in passport.split(' ') if ('ecl' in k)][0][4:] == 'brn' or\n",
    "           [k for k in passport.split(' ') if ('ecl' in k)][0][4:] == 'gry' or\n",
    "           [k for k in passport.split(' ') if ('ecl' in k)][0][4:] == 'grn' or\n",
    "           [k for k in passport.split(' ') if ('ecl' in k)][0][4:] == 'hzl' or\n",
    "           [k for k in passport.split(' ') if ('ecl' in k)][0][4:] == 'oth' \n",
    "          )\n",
    "    pid = len([k for k in passport.split(' ') if ('pid' in k)][0][4:]) == 9\n",
    "    \n",
    "    if byr and iyr and eyr and hgt and hcl and ecl and pid:\n",
    "        count+=1\n",
    "print(count)"
   ]
  },
  {
   "cell_type": "code",
   "execution_count": null,
   "metadata": {},
   "outputs": [],
   "source": []
  }
 ],
 "metadata": {
  "kernelspec": {
   "display_name": "Python 3",
   "language": "python",
   "name": "python3"
  },
  "language_info": {
   "codemirror_mode": {
    "name": "ipython",
    "version": 3
   },
   "file_extension": ".py",
   "mimetype": "text/x-python",
   "name": "python",
   "nbconvert_exporter": "python",
   "pygments_lexer": "ipython3",
   "version": "3.8.5"
  }
 },
 "nbformat": 4,
 "nbformat_minor": 4
}
