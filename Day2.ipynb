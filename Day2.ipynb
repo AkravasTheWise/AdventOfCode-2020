{
 "cells": [
  {
   "cell_type": "code",
   "execution_count": 1,
   "metadata": {},
   "outputs": [],
   "source": [
    "import numpy as np"
   ]
  },
  {
   "cell_type": "code",
   "execution_count": 2,
   "metadata": {},
   "outputs": [],
   "source": [
    "data=np.genfromtxt('input_day2.txt', dtype='str')"
   ]
  },
  {
   "cell_type": "code",
   "execution_count": 3,
   "metadata": {},
   "outputs": [
    {
     "data": {
      "text/plain": [
       "array([['1-2', 'x:', 'xpxc'],\n",
       "       ['1-5', 'b:', 'bwlbbbbcq'],\n",
       "       ['3-5', 'v:', 'qvjjdhvl'],\n",
       "       ...,\n",
       "       ['7-9', 'l:', 'llllllllll'],\n",
       "       ['15-19', 'p:', 'pppbpcppxcptppvmpppb'],\n",
       "       ['3-4', 'm:', 'fqmwcncsmp']], dtype='<U20')"
      ]
     },
     "execution_count": 3,
     "metadata": {},
     "output_type": "execute_result"
    }
   ],
   "source": [
    "data"
   ]
  },
  {
   "cell_type": "code",
   "execution_count": 4,
   "metadata": {},
   "outputs": [
    {
     "name": "stdout",
     "output_type": "stream",
     "text": [
      "556\n"
     ]
    }
   ],
   "source": [
    "count=0\n",
    "for line in data:\n",
    "    if np.int(line[0].split('-')[0])<= line[2].count(line[1][0]) <= np.int(line[0].split('-')[1]):\n",
    "        count+=1\n",
    "print(count)"
   ]
  },
  {
   "cell_type": "code",
   "execution_count": 5,
   "metadata": {},
   "outputs": [
    {
     "name": "stdout",
     "output_type": "stream",
     "text": [
      "605\n"
     ]
    }
   ],
   "source": [
    "count=0\n",
    "for line in data:\n",
    "    pos1= np.int(line[0].split('-')[0])-1\n",
    "    pos2= np.int(line[0].split('-')[1])-1\n",
    "    if (line[2][pos1] == line[1][0]) is not (line[2][pos2] == line[1][0]):\n",
    "        count+=1\n",
    "print(count)"
   ]
  },
  {
   "cell_type": "code",
   "execution_count": null,
   "metadata": {},
   "outputs": [],
   "source": []
  }
 ],
 "metadata": {
  "kernelspec": {
   "display_name": "Python 3",
   "language": "python",
   "name": "python3"
  },
  "language_info": {
   "codemirror_mode": {
    "name": "ipython",
    "version": 3
   },
   "file_extension": ".py",
   "mimetype": "text/x-python",
   "name": "python",
   "nbconvert_exporter": "python",
   "pygments_lexer": "ipython3",
   "version": "3.8.5"
  }
 },
 "nbformat": 4,
 "nbformat_minor": 4
}
