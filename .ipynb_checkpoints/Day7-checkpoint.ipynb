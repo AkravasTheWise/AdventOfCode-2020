{
 "cells": [
  {
   "cell_type": "code",
   "execution_count": 1,
   "metadata": {},
   "outputs": [],
   "source": [
    "import numpy as np"
   ]
  },
  {
   "cell_type": "code",
   "execution_count": 41,
   "metadata": {},
   "outputs": [],
   "source": [
    "with open('input_day7.txt', 'r') as file:\n",
    "    rules = file.read().split('\\n')\n",
    "    #customs = customs.replace('\\n', ' ')    \n",
    "#customs = customs.split('%')"
   ]
  },
  {
   "cell_type": "markdown",
   "metadata": {},
   "source": [
    "# Part 1"
   ]
  },
  {
   "cell_type": "code",
   "execution_count": 75,
   "metadata": {},
   "outputs": [],
   "source": [
    "bags=0\n",
    "secondaryBags = []\n",
    "for rule in rules:\n",
    "    if 'shiny gold' in rule:\n",
    "        secondaryBags=np.append(secondaryBags, ' '.join(rule.split(' ')[:2]))\n",
    "\n",
    "secondaryBags = list(dict.fromkeys(secondaryBags))\n",
    "numberOfBags = []\n",
    "i = 0\n",
    "\n",
    "while i < 30:\n",
    "    for rule in rules:\n",
    "        for bag in secondaryBags: \n",
    "            if bag in rule:\n",
    "                secondaryBags = np.append(secondaryBags, ' '.join(rule.split(' ')[:2]))\n",
    "\n",
    "    secondaryBags = list(dict.fromkeys(secondaryBags))\n",
    "    numberOfBags = np.append(numberOfBags, len(secondaryBags))\n",
    "    i += 1"
   ]
  },
  {
   "cell_type": "code",
   "execution_count": 76,
   "metadata": {},
   "outputs": [
    {
     "data": {
      "text/plain": [
       "array([ 55., 114., 191., 225., 233., 234., 234., 234., 234., 234., 234.,\n",
       "       234., 234., 234., 234., 234., 234., 234., 234., 234., 234., 234.,\n",
       "       234., 234., 234., 234., 234., 234., 234., 234.])"
      ]
     },
     "execution_count": 76,
     "metadata": {},
     "output_type": "execute_result"
    }
   ],
   "source": [
    "numberOfBags"
   ]
  },
  {
   "cell_type": "code",
   "execution_count": null,
   "metadata": {},
   "outputs": [],
   "source": []
  }
 ],
 "metadata": {
  "kernelspec": {
   "display_name": "Python 3",
   "language": "python",
   "name": "python3"
  },
  "language_info": {
   "codemirror_mode": {
    "name": "ipython",
    "version": 3
   },
   "file_extension": ".py",
   "mimetype": "text/x-python",
   "name": "python",
   "nbconvert_exporter": "python",
   "pygments_lexer": "ipython3",
   "version": "3.8.5"
  }
 },
 "nbformat": 4,
 "nbformat_minor": 4
}
