{
 "cells": [
  {
   "cell_type": "code",
   "execution_count": 1,
   "metadata": {},
   "outputs": [],
   "source": [
    "import numpy as np"
   ]
  },
  {
   "cell_type": "code",
   "execution_count": 9,
   "metadata": {},
   "outputs": [],
   "source": [
    "def fila(row):\n",
    "    binary=[]\n",
    "    for char in row:\n",
    "        if char == 'B':\n",
    "            binary = np.append(binary, 1)\n",
    "        elif char == 'F':\n",
    "            binary = np.append(binary, 0)\n",
    "    return np.sum(binary*np.transpose([64,32,16,8,4,2,1]))"
   ]
  },
  {
   "cell_type": "code",
   "execution_count": 13,
   "metadata": {},
   "outputs": [],
   "source": [
    "def col(col):\n",
    "    binary=[]\n",
    "    for char in col:\n",
    "        if char == 'R':\n",
    "            binary = np.append(binary, 1)\n",
    "        elif char == 'L':\n",
    "            binary = np.append(binary, 0)\n",
    "    return np.sum(binary*np.transpose([4,2,1]))"
   ]
  },
  {
   "cell_type": "code",
   "execution_count": 17,
   "metadata": {},
   "outputs": [],
   "source": [
    "seats=np.genfromtxt('input_day5.txt', dtype=str)"
   ]
  },
  {
   "cell_type": "markdown",
   "metadata": {},
   "source": [
    "# Part 1"
   ]
  },
  {
   "cell_type": "code",
   "execution_count": 25,
   "metadata": {},
   "outputs": [
    {
     "name": "stdout",
     "output_type": "stream",
     "text": [
      "965.0\n"
     ]
    }
   ],
   "source": [
    "maxID=0\n",
    "IDList=[]\n",
    "for seat in seats:\n",
    "    ID = fila(seat[:7])*8 + col(seat[7:])\n",
    "    IDList = np.append(IDList, ID)\n",
    "    if ID > maxID:\n",
    "        maxID = ID\n",
    "print(maxID)"
   ]
  },
  {
   "cell_type": "markdown",
   "metadata": {},
   "source": [
    "# Part 2"
   ]
  },
  {
   "cell_type": "code",
   "execution_count": 32,
   "metadata": {},
   "outputs": [
    {
     "name": "stdout",
     "output_type": "stream",
     "text": [
      "524\n"
     ]
    }
   ],
   "source": [
    "for i in range(128):\n",
    "    for j in range(8):\n",
    "        if (not i*8+j in IDList) and (i*8+j+1 in IDList) and (i*8+j-1 in IDList):\n",
    "            print(i*8+j)"
   ]
  }
 ],
 "metadata": {
  "kernelspec": {
   "display_name": "Python 3",
   "language": "python",
   "name": "python3"
  },
  "language_info": {
   "codemirror_mode": {
    "name": "ipython",
    "version": 3
   },
   "file_extension": ".py",
   "mimetype": "text/x-python",
   "name": "python",
   "nbconvert_exporter": "python",
   "pygments_lexer": "ipython3",
   "version": "3.8.5"
  }
 },
 "nbformat": 4,
 "nbformat_minor": 4
}
