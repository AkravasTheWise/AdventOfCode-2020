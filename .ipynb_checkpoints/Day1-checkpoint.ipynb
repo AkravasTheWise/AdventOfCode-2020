{
 "cells": [
  {
   "cell_type": "code",
   "execution_count": 1,
   "metadata": {},
   "outputs": [],
   "source": [
    "import numpy as np"
   ]
  },
  {
   "cell_type": "code",
   "execution_count": 2,
   "metadata": {},
   "outputs": [],
   "source": [
    "data=np.loadtxt('input_day1.txt')"
   ]
  },
  {
   "cell_type": "code",
   "execution_count": 8,
   "metadata": {},
   "outputs": [
    {
     "name": "stdout",
     "output_type": "stream",
     "text": [
      "2020.0 100419.0\n"
     ]
    }
   ],
   "source": [
    "suma=0\n",
    "prod=0\n",
    "for i in data:\n",
    "    for j in data:\n",
    "        if i+j == 2020:\n",
    "            suma=i+j\n",
    "            prod=i*j\n",
    "            break\n",
    "print(suma, prod)"
   ]
  },
  {
   "cell_type": "code",
   "execution_count": 9,
   "metadata": {},
   "outputs": [
    {
     "name": "stdout",
     "output_type": "stream",
     "text": [
      "2020.0 265253940.0\n"
     ]
    }
   ],
   "source": [
    "suma=0\n",
    "prod=0\n",
    "for i in data:\n",
    "    for j in data:\n",
    "        for k in data:\n",
    "            if i+j+k == 2020:\n",
    "                suma=i+j+k\n",
    "                prod=i*j*k\n",
    "                break\n",
    "print(suma, prod)"
   ]
  },
  {
   "cell_type": "code",
   "execution_count": null,
   "metadata": {},
   "outputs": [],
   "source": []
  }
 ],
 "metadata": {
  "kernelspec": {
   "display_name": "Python 3",
   "language": "python",
   "name": "python3"
  },
  "language_info": {
   "codemirror_mode": {
    "name": "ipython",
    "version": 3
   },
   "file_extension": ".py",
   "mimetype": "text/x-python",
   "name": "python",
   "nbconvert_exporter": "python",
   "pygments_lexer": "ipython3",
   "version": "3.8.5"
  }
 },
 "nbformat": 4,
 "nbformat_minor": 4
}
