{
 "cells": [
  {
   "cell_type": "code",
   "execution_count": 2,
   "metadata": {},
   "outputs": [],
   "source": [
    "import numpy as np\n",
    "import string"
   ]
  },
  {
   "cell_type": "code",
   "execution_count": 9,
   "metadata": {},
   "outputs": [],
   "source": [
    "with open('input_day6.txt', 'r') as file:\n",
    "    customs = file.read().replace('\\n\\n', '%')\n",
    "    customs = customs.replace('\\n', ' ')    \n",
    "customs = customs.split('%')"
   ]
  },
  {
   "cell_type": "markdown",
   "metadata": {},
   "source": [
    "# Part 1"
   ]
  },
  {
   "cell_type": "code",
   "execution_count": 17,
   "metadata": {},
   "outputs": [
    {
     "name": "stdout",
     "output_type": "stream",
     "text": [
      "6297\n"
     ]
    }
   ],
   "source": [
    "count = 0\n",
    "for declaration in customs:\n",
    "    count += len(\"\".join(dict.fromkeys(declaration)).replace(' ', ''))\n",
    "print(count)"
   ]
  },
  {
   "cell_type": "markdown",
   "metadata": {},
   "source": [
    "# Part 2"
   ]
  },
  {
   "cell_type": "code",
   "execution_count": 33,
   "metadata": {},
   "outputs": [
    {
     "name": "stdout",
     "output_type": "stream",
     "text": [
      "3158\n"
     ]
    }
   ],
   "source": [
    "count = 0\n",
    "for declaration in customs:\n",
    "    declaration = declaration.split(' ')\n",
    "    if len(declaration) == 1:\n",
    "        count += len(declaration[0])\n",
    "    elif len(declaration) == 2:\n",
    "        count += len(''.join(sorted(set(declaration[0]) & \n",
    "                            set(declaration[1]), key = declaration[0].index)))    \n",
    "    else:\n",
    "        inters = ''.join(sorted(set(declaration[0]) & \n",
    "                            set(declaration[1]), key = declaration[0].index))\n",
    "        for person in declaration[2:]:\n",
    "            inters = ''.join(sorted(set(inters) & \n",
    "                                set(person), key =inters.index))\n",
    "        count += len(inters)\n",
    "print(count)"
   ]
  },
  {
   "cell_type": "code",
   "execution_count": null,
   "metadata": {},
   "outputs": [],
   "source": []
  }
 ],
 "metadata": {
  "kernelspec": {
   "display_name": "Python 3",
   "language": "python",
   "name": "python3"
  },
  "language_info": {
   "codemirror_mode": {
    "name": "ipython",
    "version": 3
   },
   "file_extension": ".py",
   "mimetype": "text/x-python",
   "name": "python",
   "nbconvert_exporter": "python",
   "pygments_lexer": "ipython3",
   "version": "3.8.5"
  }
 },
 "nbformat": 4,
 "nbformat_minor": 4
}
